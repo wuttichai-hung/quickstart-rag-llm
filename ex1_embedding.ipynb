{
 "cells": [
  {
   "cell_type": "code",
   "execution_count": 1,
   "metadata": {},
   "outputs": [],
   "source": [
    "from langchain.document_loaders import YoutubeLoader\n",
    "from langchain.text_splitter import RecursiveCharacterTextSplitter\n",
    "from langchain.embeddings import HuggingFaceInstructEmbeddings\n",
    "from langchain.vectorstores import FAISS"
   ]
  },
  {
   "cell_type": "code",
   "execution_count": 2,
   "metadata": {},
   "outputs": [],
   "source": [
    "video_url = \"https://www.youtube.com/watch?v=Jr8gLJr9WKQ&ab_channel=EnglishSkillsMastery\"\n",
    "chunk_size = 1000\n",
    "chunk_overlap = 100\n",
    "\n",
    "embeding_model = \"hkunlp/instructor-large\"\n",
    "index_file_path = 'youtube.faiss'"
   ]
  },
  {
   "cell_type": "markdown",
   "metadata": {},
   "source": [
    "# Get Text Input: Youtube transcript"
   ]
  },
  {
   "cell_type": "code",
   "execution_count": 3,
   "metadata": {},
   "outputs": [
    {
     "data": {
      "text/plain": [
       "[Document(page_content=\"Welcome to our English lesson in today's video I went to London Paul shares his successful story of learning English and becoming fluent we're going to learn some interesting vocabulary and expressions from Paul's story so get ready to practice and improve your own English speaking and listening skills listen carefully I went to London hi I'm Paul I'm want to share my successful story of learning English and how I became fluent and confident in speaking it my journey began in high school with an English teacher named Henry from England at that time my English was not very good but I always looked forward to his classes because I really wanted to improve my English Henry told us interesting stories about the history of England and the United Kingdom which sparked my interest in history and my desire to visit the United Kingdom someday after hen we returned to England we kept in touch via email I dedicated myself to learning English every day by practicing reading and writing gradually\", metadata={'source': 'Jr8gLJr9WKQ'}),\n",
       " Document(page_content=\"email I dedicated myself to learning English every day by practicing reading and writing gradually my reading and writing skills improved even though I was good at reading and writing speaking and listening were hard for me after finishing University I decided to take an English language course in London on my very first day I felt excited but also nervous it was a struggle to understand others when they spoke mainly due to my poor listening skills additionally my poor pronunciation made it difficult for people to understand me so I often had to write down what I wanted to say one day I visited Henry at his home he lived with his wife and their 2-year-old son George while telling Henry about my problems with English little George who was watching cartoons came to Henry and tried to say something about the cartoon but Henry couldn't understand him as George was just learning to speak Henry joined George to watch the cartoon and after understanding what George was trying to say he\", metadata={'source': 'Jr8gLJr9WKQ'}),\n",
       " Document(page_content='Henry joined George to watch the cartoon and after understanding what George was trying to say he taught George by telling George to repeat after him until George said the words correctly this moment gave me hope for improving my own English skills I just realized that when it comes to learning any language you should start by listening and imitating how native speakers talk just as children do when learning to speak once we can correctly imitate their pronunciation we understand them better and they understand us too I began practicing English by mimicking people in movies and TV shows I listened to them carefully and repeated words until I could say them correctly and clearly then I moved on to short sentences later I tried longer sentences within 3 months my pronunciation had improved a lot after a year my English accent sounded almost like I was from England since then I have spoken English fluidly and confidently sometimes I even dream in English people I met often thought I was', metadata={'source': 'Jr8gLJr9WKQ'}),\n",
       " Document(page_content=\"English fluidly and confidently sometimes I even dream in English people I met often thought I was born and raised in England and they were impressed when I told them about my Learning Journey so what I want to tell you is that learning English isn't too hard if you know the right ways to practice the key is to listen carefully and repeat after the speaker you need to listen a lot and practice speaking by mimicking native speakers start with clear pronunciation of words then move to short sentences and finally to longer ones practice until you can speak without having to think first you can improve your English speaking and listening skills right here at English skills Mastery we have many lessons that will help you learn English successfully remember practice a lot and often interesting vocabulary and expressions before we start our speaking practice let's look at some new words and phrases from our story to help improve our English look forward to something means to be excited and\", metadata={'source': 'Jr8gLJr9WKQ'}),\n",
       " Document(page_content=\"from our story to help improve our English look forward to something means to be excited and pleased about something that is going to happen example I'm really looking forward to my vacation spark means to start or cause something especially something interesting or exciting example the funny movie sparked my love for comedy desire is a strong feeling of wanting to have something or wishing for something to happen example I have a strong desire to learn how to swim keep in touch means to continue to communicate with someone even though you are not near each other example I will keep in touch with my friends by sending them emails dedicate means to give a lot of your time and effort to a specific task or purpose example he dedicates 1 hour every day to learning Spanish gradually means slowly over a period of time not suddenly example he gradually learned to cook by watching cooking shows nervous means feeling anxious or worried about something example I get nervous when I have to speak\", metadata={'source': 'Jr8gLJr9WKQ'}),\n",
       " Document(page_content=\"nervous means feeling anxious or worried about something example I get nervous when I have to speak in front of many people struggle means to try very hard to do something when it is difficult or there are obstacles example he struggled to open the heavy door due to because of something a way of explaining the reason for something example the game was cancelled due to the Rain imitate means to copy someone's action speech or behavior example she can imitate her teacher's voice very well mimic very similar to imitate it also means to copy the way someone speaks or behaves often to make people laugh example the parrot can mimic human speech surprisingly well impress means to make someone feel admiration and respect to cause a feeling of Interest or excitement in someone example he impressed his friends by learning to play the guitar quickly now it's time to practice repeat after Paul hi I'm Paul hi I'm Paul I want to share my successful story of learning English I want to share my\", metadata={'source': 'Jr8gLJr9WKQ'}),\n",
       " Document(page_content=\"hi I'm Paul hi I'm Paul I want to share my successful story of learning English I want to share my successful story of learning English and how I became fluent and confident in speaking it and how I became fluent and confident in speaking it my journey began in high school my journey began in high school with an English teacher named Henry from [Music] England with an English teacher named Henry from England at that time my English was not very good at that time my English was not very good but I always looked forward to this classes but I always looked forward to his classes because I really wanted to improve my English because cuz I really wanted to improve my English Henry told us interesting stories about the history of England Henry told us interesting stories about the history of England and the United Kingdom and the United Kingdom which sparked my interest in history which sparked my interest in history and my desire to visit the United Kingdom someday and my desire to visit\", metadata={'source': 'Jr8gLJr9WKQ'}),\n",
       " Document(page_content='my interest in history and my desire to visit the United Kingdom someday and my desire to visit the United Kingdom someday after Henry returned to England after Henry returned to England we kept in touch via email we kept in touch touch via email I dedicated myself to learning English every day I dedicated myself to learning English every day by practicing reading and writing by practicing reading and writing gradually my reading and writing skills improved gradually my reading and writing skills improved even though I was good at reading and writing even though I was good at reading and writing speaking and listening were hard for me speaking and listening were hard for me after after finishing University after finishing University I decided to take an English language course in London I decided to take an English language course in London on my very first day I felt excited but also nervous on my very first day I felt excited but also nervous it was a struggle to understand others', metadata={'source': 'Jr8gLJr9WKQ'}),\n",
       " Document(page_content='nervous on my very first day I felt excited but also nervous it was a struggle to understand others when they spoke it was a struggle to understand others when they spoke mainly due to my poor listening skills mainly due to my poor listening skills addition Al additionally my poor pronunciation made it difficult for people to understand me my poor pronunciation made it difficult for people to understand me so I often had to write down what I wanted to say so I often had to write down what I wanted to say one day I visited Henry at his home one day I visited Henry at his home he lived with his wife and their 2-year-old son George he lived with his wife and their 2-year-old son George while telling Henry about my problems with English while telling Henry about my problems with English little George who was watching cartoons little George who was watching cartoons came to Henry came to Henry and tried to say something about the cartoon and tried to say something about the cartoon but', metadata={'source': 'Jr8gLJr9WKQ'}),\n",
       " Document(page_content=\"Henry and tried to say something about the cartoon and tried to say something about the cartoon but Henry couldn't understand him but Henry couldn't understand him as George was just learning to speak as George was just learning to speak Henry joined George to watch the cartoon Henry joined George to Watch the cartoon and after understanding what George was trying to say and after understanding what George was trying to say he taught George by telling George to repeat after him he taught George by telling George to repeat after him until George said the words correctly until George said the words correctly this moment gave me hope for improving my own English skills this moment gave me hope for improving my own English skills I just realized that when it comes to learning any language I just realize that when it comes to learning any language you should start by listening you should start by listening and imitating how native speakers talk and imitating how native speakers talk just\", metadata={'source': 'Jr8gLJr9WKQ'}),\n",
       " Document(page_content='by listening and imitating how native speakers talk and imitating how native speakers talk just as children do when learning to speak just as children do when learning to speak once we can correctly imitate their [Music] pronunciation once we can correctly imitate their [Music] pronunciation we understand them better we understand them better and they understand us too and they understand us too I began practicing English I began practicing English by mimicking people in movies and TV shows by mimicking people in movies and TV shows I listen to them carefully and repeated words I listen to them carefully and repeated words until I could say them correctly ly and clearly until I could say them correctly and clearly then I moved on to short [Music] sentences then I moved on to short [Music] sentences later I tried longer sentences later I tried longer sentences within 3 months months within 3 months my pronunciation had improved a lot my pronunciation had improved a lot after a year', metadata={'source': 'Jr8gLJr9WKQ'}),\n",
       " Document(page_content=\"3 months my pronunciation had improved a lot my pronunciation had improved a lot after a year after a year my English accent sounded almost like I was from England my English accent sounded almost like I was from from England since then I have spoken English fluidly and confidently since then I have spoken English fluidly and confidently sometimes I even dream in English sometimes I even dream in English people I met often thought I was born and raised in England people I met often thought I was born and raised in England and they were impressed when I told them about my Learning Journey and they were impressed when I told them about my Learning Journey listen to the story carefully one more time hi I'm Paul I want to share my successful story of learning English and how I became fluent and confident in speaking it my journey began in high school with an English teacher named Henry from England at that time my English was not very good but I always looked forward to this classes\", metadata={'source': 'Jr8gLJr9WKQ'}),\n",
       " Document(page_content='from England at that time my English was not very good but I always looked forward to this classes because I really wanted to improve my English Henry told us interesting stories about about the history of England and the United Kingdom which sparked my interest in history and my desire to visit the United Kingdom someday after Henry returned to England we kept in touch via email I dedicated myself to learning English every day by practicing reading and writing gradually my reading and writing skills improved even though I was good at reading and writing speaking and listening were hard for me after finishing University I decided to take an English language course in London on my very first day I felt excited but also nervous it was a struggle to understand others when they spoke mainly due to my poor listening skills additionally my poor pronunciation made it difficult for people to understand me so I often had to write down what I wanted to say one day I visited Henry at his home he', metadata={'source': 'Jr8gLJr9WKQ'}),\n",
       " Document(page_content=\"me so I often had to write down what I wanted to say one day I visited Henry at his home he lived with his wife and their 2-year-old son George while telling Henry about my problems with English little George who was watching cartoons came to Henry and tried to say something about the cartoon but Henry couldn't understand him as George was just learning to speak Henry joined George to watch the cartoon and after understanding what George was trying to say he taught George by telling George to repeat after him until George said the words correctly this moment gave me hope for improving my own English skills I just realized that when it comes to learning any language you should start by listening and imitating how native speakers talk just as children do when learning to speak once we can correctly imitate their pronunciation we understand them better and they understand us too I began practicing English by mimicking people in movies and TV shows I listen to them carefully and repeated\", metadata={'source': 'Jr8gLJr9WKQ'}),\n",
       " Document(page_content=\"English by mimicking people in movies and TV shows I listen to them carefully and repeated words until I could could say them correctly and clearly then I moved on to short sentences later I tried longer sentences within 3 months my pronunciation had improved a lot after a year my English accent sounded almost like I was from England since then I have spoken English fluidly and confidently sometimes I even dream in English people I met often thought I was born and raised in English and they were impressed when I told them about my Learning Journey so what I want to tell you is that learning English isn't too hard if you know the right ways to practice the key is to listen carefully and repeat after the speaker you need to listen a lot and practice speaking by mimicking native speakers start with clear pronunciation of words then move to short sentences and finally to longer ones practice until you can speak without having to think first thank you for watching our story about learning\", metadata={'source': 'Jr8gLJr9WKQ'}),\n",
       " Document(page_content=\"until you can speak without having to think first thank you for watching our story about learning English I hope it inspires you and shows that with dedication and practice you can achieve great results keep practicing and stay motivated and soon you'll find yourself speaking English more confidently don't forget to like share and subscribe for more lessons goodbye for now and happy learning\", metadata={'source': 'Jr8gLJr9WKQ'})]"
      ]
     },
     "execution_count": 3,
     "metadata": {},
     "output_type": "execute_result"
    }
   ],
   "source": [
    "loader = YoutubeLoader.from_youtube_url(video_url)\n",
    "transcript = loader.load()\n",
    "text_splitter = RecursiveCharacterTextSplitter(\n",
    "    chunk_size=chunk_size, \n",
    "    chunk_overlap=chunk_overlap\n",
    "    )\n",
    "docs = text_splitter.split_documents(transcript)\n",
    "docs"
   ]
  },
  {
   "cell_type": "markdown",
   "metadata": {},
   "source": [
    "# Embedding Model"
   ]
  },
  {
   "cell_type": "code",
   "execution_count": 5,
   "metadata": {},
   "outputs": [
    {
     "name": "stderr",
     "output_type": "stream",
     "text": [
      "c:\\Users\\Hung\\anaconda3\\envs\\ml\\lib\\site-packages\\InstructorEmbedding\\instructor.py:7: TqdmExperimentalWarning: Using `tqdm.autonotebook.tqdm` in notebook mode. Use `tqdm.tqdm` instead to force console mode (e.g. in jupyter console)\n",
      "  from tqdm.autonotebook import trange\n"
     ]
    },
    {
     "name": "stdout",
     "output_type": "stream",
     "text": [
      "load INSTRUCTOR_Transformer\n",
      "max_seq_length  512\n"
     ]
    }
   ],
   "source": [
    "model_kwargs = {'device': 'cuda'}\n",
    "encode_kwargs = {'normalize_embeddings': True}\n",
    "embeddings = HuggingFaceInstructEmbeddings(\n",
    "    model_name=embeding_model,\n",
    "    model_kwargs=model_kwargs,\n",
    "    encode_kwargs=encode_kwargs\n",
    ")"
   ]
  },
  {
   "cell_type": "markdown",
   "metadata": {},
   "source": [
    "# Vector Store"
   ]
  },
  {
   "cell_type": "code",
   "execution_count": 6,
   "metadata": {},
   "outputs": [],
   "source": [
    "db = FAISS.from_documents(docs, embeddings)"
   ]
  },
  {
   "cell_type": "code",
   "execution_count": 8,
   "metadata": {},
   "outputs": [],
   "source": [
    "db.save_local(index_file_path)"
   ]
  }
 ],
 "metadata": {
  "kernelspec": {
   "display_name": "ml",
   "language": "python",
   "name": "python3"
  },
  "language_info": {
   "codemirror_mode": {
    "name": "ipython",
    "version": 3
   },
   "file_extension": ".py",
   "mimetype": "text/x-python",
   "name": "python",
   "nbconvert_exporter": "python",
   "pygments_lexer": "ipython3",
   "version": "3.10.11"
  }
 },
 "nbformat": 4,
 "nbformat_minor": 2
}
